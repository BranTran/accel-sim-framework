{
 "cells": [
  {
   "cell_type": "code",
   "execution_count": 8,
   "id": "cfe111c9",
   "metadata": {},
   "outputs": [],
   "source": [
    "import os\n",
    "import pandas as pd\n",
    "import numpy as np"
   ]
  },
  {
   "cell_type": "code",
   "execution_count": 9,
   "id": "7db0b200",
   "metadata": {},
   "outputs": [
    {
     "data": {
      "text/plain": [
       "'C:\\\\Users\\\\User\\\\Desktop\\\\Power Management GPU\\\\power_modeling\\\\accel-sim-framework'"
      ]
     },
     "execution_count": 9,
     "metadata": {},
     "output_type": "execute_result"
    }
   ],
   "source": [
    "os.getcwd()"
   ]
  },
  {
   "cell_type": "code",
   "execution_count": 36,
   "id": "86f07204",
   "metadata": {},
   "outputs": [],
   "source": [
    "\n",
    "target_dir = '100iter_sample_per_500cycle'\n",
    "cycles_between_samples = 500\n",
    "\n",
    "target_dir = '10iter_processed'\n",
    "cycles_between_samples = 1\n",
    "\n",
    "target_path = os.path.join('logs_accelwattch',target_dir)\n",
    "energy_dict = {}\n",
    "plotting_dict = {}\n",
    "# Define the processor frequency (in MHz)\n",
    "processor_frequency_MHz = 1312\n",
    "cycles_per_second = processor_frequency_MHz * 10**6\n",
    "# Calculate the duration of one cycle (in seconds)\n",
    "cycle_duration = 1 / cycles_per_second\n",
    "sample_duration = cycle_duration * cycles_between_samples\n",
    "\n",
    "static_power=32.32522272\n",
    "\n",
    "for file in os.listdir(target_path):\n",
    "    file_path = os.path.join(target_path,file)\n",
    "#     print(file)\n",
    "    benchmark = file.split('.accelsim')[0].replace(f'-{target_dir.split(\"iter\")[0]}','')\n",
    "    if file.endswith('csv') and benchmark not in energy_dict and benchmark not in plotting_dict:\n",
    "        df = pd.read_csv(file_path)\n",
    "        dyn_energy = np.trapz(df['runtime_dynamic_W'], dx=sample_duration)\n",
    "        static_power_resized = np.resize(static_power, len(df))\n",
    "        static_energy = np.trapz(static_power_resized, dx=sample_duration)\n",
    "        total_energy = dyn_energy + static_energy\n",
    "        energy_dict[benchmark]=(total_energy,dyn_energy,static_energy,len(df)*cycles_between_samples)\n",
    "        plotting_dict[benchmark]=df['runtime_dynamic_W']\n"
   ]
  },
  {
   "cell_type": "code",
   "execution_count": 37,
   "id": "d26c3fc5",
   "metadata": {},
   "outputs": [
    {
     "data": {
      "text/html": [
       "<div>\n",
       "<style scoped>\n",
       "    .dataframe tbody tr th:only-of-type {\n",
       "        vertical-align: middle;\n",
       "    }\n",
       "\n",
       "    .dataframe tbody tr th {\n",
       "        vertical-align: top;\n",
       "    }\n",
       "\n",
       "    .dataframe thead th {\n",
       "        text-align: right;\n",
       "    }\n",
       "</style>\n",
       "<table border=\"1\" class=\"dataframe\">\n",
       "  <thead>\n",
       "    <tr style=\"text-align: right;\">\n",
       "      <th></th>\n",
       "      <th>benchmark</th>\n",
       "      <th>total_energy_J</th>\n",
       "      <th>dyn_energy_J</th>\n",
       "      <th>static_energy_J</th>\n",
       "      <th>cycles</th>\n",
       "    </tr>\n",
       "  </thead>\n",
       "  <tbody>\n",
       "    <tr>\n",
       "      <th>0</th>\n",
       "      <td>ACT_CORE2_16_32</td>\n",
       "      <td>0.000466</td>\n",
       "      <td>0.000216</td>\n",
       "      <td>0.000250</td>\n",
       "      <td>10128</td>\n",
       "    </tr>\n",
       "    <tr>\n",
       "      <th>1</th>\n",
       "      <td>ACT_CORE2_1_32</td>\n",
       "      <td>0.000427</td>\n",
       "      <td>0.000180</td>\n",
       "      <td>0.000247</td>\n",
       "      <td>10040</td>\n",
       "    </tr>\n",
       "    <tr>\n",
       "      <th>2</th>\n",
       "      <td>ACT_CORE2_32_32</td>\n",
       "      <td>0.000508</td>\n",
       "      <td>0.000256</td>\n",
       "      <td>0.000253</td>\n",
       "      <td>10254</td>\n",
       "    </tr>\n",
       "    <tr>\n",
       "      <th>3</th>\n",
       "      <td>ACT_CORE2_48_32</td>\n",
       "      <td>0.000554</td>\n",
       "      <td>0.000295</td>\n",
       "      <td>0.000259</td>\n",
       "      <td>10520</td>\n",
       "    </tr>\n",
       "    <tr>\n",
       "      <th>4</th>\n",
       "      <td>ACT_CORE2_64_32</td>\n",
       "      <td>0.000604</td>\n",
       "      <td>0.000335</td>\n",
       "      <td>0.000269</td>\n",
       "      <td>10922</td>\n",
       "    </tr>\n",
       "    <tr>\n",
       "      <th>...</th>\n",
       "      <td>...</td>\n",
       "      <td>...</td>\n",
       "      <td>...</td>\n",
       "      <td>...</td>\n",
       "      <td>...</td>\n",
       "    </tr>\n",
       "    <tr>\n",
       "      <th>90</th>\n",
       "      <td>mix9</td>\n",
       "      <td>0.000404</td>\n",
       "      <td>0.000213</td>\n",
       "      <td>0.000192</td>\n",
       "      <td>7784</td>\n",
       "    </tr>\n",
       "    <tr>\n",
       "      <th>91</th>\n",
       "      <td>mul_add_tex_1</td>\n",
       "      <td>0.002441</td>\n",
       "      <td>0.001691</td>\n",
       "      <td>0.000750</td>\n",
       "      <td>30454</td>\n",
       "    </tr>\n",
       "    <tr>\n",
       "      <th>92</th>\n",
       "      <td>REG_FILE</td>\n",
       "      <td>0.001012</td>\n",
       "      <td>0.000712</td>\n",
       "      <td>0.000300</td>\n",
       "      <td>12173</td>\n",
       "    </tr>\n",
       "    <tr>\n",
       "      <th>93</th>\n",
       "      <td>SHRD_TEX_SFU</td>\n",
       "      <td>0.002248</td>\n",
       "      <td>0.001529</td>\n",
       "      <td>0.000719</td>\n",
       "      <td>29189</td>\n",
       "    </tr>\n",
       "    <tr>\n",
       "      <th>94</th>\n",
       "      <td>TENSOR</td>\n",
       "      <td>0.005006</td>\n",
       "      <td>0.003488</td>\n",
       "      <td>0.001518</td>\n",
       "      <td>61611</td>\n",
       "    </tr>\n",
       "  </tbody>\n",
       "</table>\n",
       "<p>95 rows × 5 columns</p>\n",
       "</div>"
      ],
      "text/plain": [
       "          benchmark  total_energy_J  dyn_energy_J  static_energy_J  cycles\n",
       "0   ACT_CORE2_16_32        0.000466      0.000216         0.000250   10128\n",
       "1    ACT_CORE2_1_32        0.000427      0.000180         0.000247   10040\n",
       "2   ACT_CORE2_32_32        0.000508      0.000256         0.000253   10254\n",
       "3   ACT_CORE2_48_32        0.000554      0.000295         0.000259   10520\n",
       "4   ACT_CORE2_64_32        0.000604      0.000335         0.000269   10922\n",
       "..              ...             ...           ...              ...     ...\n",
       "90             mix9        0.000404      0.000213         0.000192    7784\n",
       "91    mul_add_tex_1        0.002441      0.001691         0.000750   30454\n",
       "92         REG_FILE        0.001012      0.000712         0.000300   12173\n",
       "93     SHRD_TEX_SFU        0.002248      0.001529         0.000719   29189\n",
       "94           TENSOR        0.005006      0.003488         0.001518   61611\n",
       "\n",
       "[95 rows x 5 columns]"
      ]
     },
     "execution_count": 37,
     "metadata": {},
     "output_type": "execute_result"
    }
   ],
   "source": [
    "# Unpack the tuples into separate lists\n",
    "data = [(benchmark, *values) for benchmark, values in energy_dict.items()]\n",
    "\n",
    "# Create a DataFrame\n",
    "energy_df = pd.DataFrame(data, columns=['benchmark', 'total_energy_J', 'dyn_energy_J', 'static_energy_J', 'cycles'])\n",
    "energy_df.to_csv(f'{target_dir}_energy.csv',index=False)\n",
    "energy_df"
   ]
  },
  {
   "cell_type": "code",
   "execution_count": 43,
   "id": "94b21e09",
   "metadata": {},
   "outputs": [],
   "source": [
    "target_dirs = ['100iter_sample_per_500cycle','10iter_processed']\n",
    "total_df = None\n",
    "for target_dir in target_dirs:\n",
    "    target_file = f'{target_dir}_energy.csv'\n",
    "    if total_df is None:\n",
    "        total_df = pd.read_csv(target_file)\n",
    "    else:\n",
    "        new_df = pd.read_csv(target_file)\n",
    "        total_df = total_df.merge(new_df, on=\"benchmark\", suffixes=('', target_dir.split(\"iter\")[0]))\n",
    "total_df.to_csv(f'accelwattch_energy.csv',index=False)"
   ]
  },
  {
   "cell_type": "code",
   "execution_count": 46,
   "id": "1741ec5d",
   "metadata": {},
   "outputs": [
    {
     "ename": "KeyError",
     "evalue": "'TENSOR'",
     "output_type": "error",
     "traceback": [
      "\u001b[1;31m---------------------------------------------------------------------------\u001b[0m",
      "\u001b[1;31mKeyError\u001b[0m                                  Traceback (most recent call last)",
      "Cell \u001b[1;32mIn[46], line 2\u001b[0m\n\u001b[0;32m      1\u001b[0m target_benchmark \u001b[38;5;241m=\u001b[39m \u001b[38;5;124m'\u001b[39m\u001b[38;5;124mTENSOR\u001b[39m\u001b[38;5;124m'\u001b[39m\n\u001b[1;32m----> 2\u001b[0m df \u001b[38;5;241m=\u001b[39m \u001b[43mbenchmark_dict\u001b[49m\u001b[43m[\u001b[49m\u001b[43mtarget_benchmark\u001b[49m\u001b[43m]\u001b[49m\n\u001b[0;32m      3\u001b[0m df\n",
      "\u001b[1;31mKeyError\u001b[0m: 'TENSOR'"
     ]
    }
   ],
   "source": [
    "target_benchmark = 'TENSOR'\n",
    "df = benchmark_dict[target_benchmark]\n",
    "df\n"
   ]
  },
  {
   "cell_type": "code",
   "execution_count": 54,
   "id": "37752581",
   "metadata": {},
   "outputs": [
    {
     "data": {
      "image/png": "[encoded data removed]",
      "text/plain": [
       "<Figure size 640x480 with 1 Axes>"
      ]
     },
     "metadata": {},
     "output_type": "display_data"
    },
    {
     "data": {
      "text/plain": [
       "951.254"
      ]
     },
     "execution_count": 54,
     "metadata": {},
     "output_type": "execute_result"
    }
   ],
   "source": [
    "#Let's just plot some stuff\n",
    "import matplotlib.pyplot as plt\n",
    "\n",
    "target_benchmark = 'TENSOR'\n",
    "data = plotting_dict[target_benchmark]\n",
    "\n",
    "plt.plot(data)\n",
    "plt.title(f'{target_benchmark} microbenchmark')\n",
    "plt.xlabel('Cycles')\n",
    "plt.ylabel('Predicted Power (W)')\n",
    "plt.show()\n",
    "max(data)"
   ]
  },
  {
   "cell_type": "code",
   "execution_count": null,
   "id": "5d704c82",
   "metadata": {},
   "outputs": [],
   "source": []
  }
 ],
 "metadata": {
  "kernelspec": {
   "display_name": "Python 3 (ipykernel)",
   "language": "python",
   "name": "python3"
  },
  "language_info": {
   "codemirror_mode": {
    "name": "ipython",
    "version": 3
   },
   "file_extension": ".py",
   "mimetype": "text/x-python",
   "name": "python",
   "nbconvert_exporter": "python",
   "pygments_lexer": "ipython3",
   "version": "3.9.13"
  }
 },
 "nbformat": 4,
 "nbformat_minor": 5
}
